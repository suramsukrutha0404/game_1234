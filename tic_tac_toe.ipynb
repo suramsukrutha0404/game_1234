{
  "nbformat": 4,
  "nbformat_minor": 0,
  "metadata": {
    "colab": {
      "provenance": []
    },
    "kernelspec": {
      "name": "python3",
      "display_name": "Python 3"
    },
    "language_info": {
      "name": "python"
    }
  },
  "cells": [
    {
      "cell_type": "code",
      "execution_count": null,
      "metadata": {
        "id": "sWOjBPRL2zY8"
      },
      "outputs": [],
      "source": [
        "board=[['','',''],['','',''],['','','']]\n",
        "def print_board(board):\n",
        "    print(*board[0],sep=\" | \")\n",
        "    print(\"--------------\")\n",
        "    print(*board[1],sep=\" | \")\n",
        "    print(\"--------------\")\n",
        "    print(*board[2],sep=\" | \")\n",
        "def get_markers():\n",
        "    marker1=input(\"player 1 choice(X or o):\").upper()\n",
        "    marker=\"\"\n",
        "    if marker1==\"X\":\n",
        "        marker2=\"O\"\n",
        "        return [\"X\",\"O\"]\n",
        "    elif marker1==\"O\":\n",
        "        marker2=\"X\"\n",
        "        return [\"O\",\"X\"]\n",
        "    else:\n",
        "        print(\"Invalid input\")\n",
        "        return get_markers()\n",
        "def get_coordinates():\n",
        "    x,y=list(map(int,input(\"enter the coordinates:\")))\n",
        "    if x in [0,1,2] and y in [0,1,2]:\n",
        "        return [x,y]\n",
        "    else:\n",
        "        print(\"Invalid input\")\n",
        "        return get_coordinates()\n",
        "def check_for_win(board):\n",
        "    for row in board:\n",
        "        if row[0]==row[1] and row[1]==row[2] and row[1] !=\"\" :\n",
        "            return True\n",
        "    for i in range(len(board)):\n",
        "        if board[0][i]==board[1][i] and board[1][i]==board[2][i] and board[2][i]!=\"\":\n",
        "            return True\n",
        "    if board[0][0]==board[1][1] and board[1][1]==board[2][2] and board[2][2]!=\"\":\n",
        "        return True\n",
        "    if board[0][2]==board[1][1] and board[1][1]==board[2][0] and board[2][0]!=\"\":\n",
        "        return True\n",
        "    return False\n",
        "def update_board(board,chance,marker,x,y):\n",
        "    if chance==True:\n",
        "        board[x][y]=marker\n",
        "        if check_for_win(board):\n",
        "            print(\"player 1 wins\")\n",
        "            return \"DRAW\"\n",
        "        return False\n",
        "    else:\n",
        "        board[x][y]=marker\n",
        "        if check_for_win(board):\n",
        "            print(\"player 2 wins\")\n",
        "            return \"DRAW\"\n",
        "        return True\n",
        "def play_game():\n",
        "    player1=0\n",
        "    player2=0\n",
        "    m1,m2=get_markers()\n",
        "    print(f\"player 1:{m1},player 2:{m2}\")\n",
        "    chance=True\n",
        "    while True:\n",
        "        print_board(board)\n",
        "        x,y=get_coordinates()\n",
        "        if chance:\n",
        "            chance=update_board(board,chance,m1,x,y)\n",
        "            if chance ==\"DRAW\":\n",
        "                break\n",
        "        else:\n",
        "            chance=update_board(board,chance,m2,x,y)\n",
        "            if chance ==\"DRAW\":\n",
        "                break          \n",
        "play_game()"
      ]
    }
  ]
}